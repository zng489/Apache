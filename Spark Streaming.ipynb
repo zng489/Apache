{
 "cells": [
  {
   "cell_type": "code",
   "execution_count": 1,
   "id": "0d274719",
   "metadata": {},
   "outputs": [],
   "source": [
    "import findspark"
   ]
  },
  {
   "cell_type": "code",
   "execution_count": 2,
   "id": "60b44acd",
   "metadata": {},
   "outputs": [],
   "source": [
    "findspark.init(\"C:/spark\")"
   ]
  },
  {
   "cell_type": "code",
   "execution_count": 3,
   "id": "c99bc8bd",
   "metadata": {},
   "outputs": [],
   "source": [
    "from pyspark import SparkContext"
   ]
  },
  {
   "cell_type": "code",
   "execution_count": 4,
   "id": "5260afc1",
   "metadata": {},
   "outputs": [],
   "source": [
    "from pyspark.streaming import StreamingContext"
   ]
  },
  {
   "cell_type": "code",
   "execution_count": 5,
   "id": "f2700e8d",
   "metadata": {},
   "outputs": [],
   "source": [
    "sc = SparkContext('local[2]','NetWordCount')"
   ]
  },
  {
   "cell_type": "code",
   "execution_count": 7,
   "id": "2ba929da",
   "metadata": {},
   "outputs": [],
   "source": [
    "ssc = StreamingContext(sc,1)"
   ]
  },
  {
   "cell_type": "code",
   "execution_count": 9,
   "id": "32e915c1",
   "metadata": {},
   "outputs": [],
   "source": [
    "lines = ssc.socketTextStream('localhost',9999)"
   ]
  },
  {
   "cell_type": "code",
   "execution_count": null,
   "id": "f9b9ce19",
   "metadata": {},
   "outputs": [],
   "source": [
    "words = lines.flatMa"
   ]
  }
 ],
 "metadata": {
  "kernelspec": {
   "display_name": "Python 3",
   "language": "python",
   "name": "python3"
  },
  "language_info": {
   "codemirror_mode": {
    "name": "ipython",
    "version": 3
   },
   "file_extension": ".py",
   "mimetype": "text/x-python",
   "name": "python",
   "nbconvert_exporter": "python",
   "pygments_lexer": "ipython3",
   "version": "3.5.6"
  }
 },
 "nbformat": 4,
 "nbformat_minor": 5
}
